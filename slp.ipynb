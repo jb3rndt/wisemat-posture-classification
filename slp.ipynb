{
 "cells": [
  {
   "cell_type": "code",
   "execution_count": 3,
   "id": "98b2db5a",
   "metadata": {},
   "outputs": [],
   "source": [
    "import numpy as np\n",
    "import random\n",
    "from copy import deepcopy\n",
    "import matplotlib.pyplot as plt\n",
    "import torchvision, cv2\n",
    "from utils.visualizations import *\n",
    "from utils.transforms import *\n",
    "from utils.dataset import AmbientaDataset, PhysionetDataset, classes"
   ]
  },
  {
   "cell_type": "code",
   "execution_count": 8,
   "id": "bc2297ef",
   "metadata": {},
   "outputs": [],
   "source": [
    "from utils.transforms import *\n",
    "from utils.visualizations import *\n",
    "from pathlib import Path\n",
    "import utils.transforms as tf\n",
    "import utils.visualizations as vi\n",
    "import importlib\n",
    "importlib.reload(tf)\n",
    "importlib.reload(vi)\n",
    "\n",
    "from os import listdir\n",
    "from os.path import isfile, join\n",
    "#files = [f for f in listdir(mypath) if isfile(join(mypath, f))]\n",
    "data = []\n",
    "labels = [] # 0 = supine, 1 = left, 2 = right\n",
    "for subj in range(1, 103):\n",
    "    data.append([])\n",
    "    labels.append([])\n",
    "    for type in [\"cover1\", \"cover2\", \"uncover\"]:\n",
    "        for pos in range(1, 46):\n",
    "            file_data = np.load(f'data/SLP-raw/danaLab/00{str(subj).zfill(3)}/PMarray/{type}/0000{str(pos).zfill(2)}.npy')\n",
    "            data[subj-1].append(file_data)\n",
    "            if pos <= 15:\n",
    "                labels[subj-1].append(0)\n",
    "            elif pos <= 30:\n",
    "                labels[subj-1].append(1)\n",
    "            else:\n",
    "                labels[subj-1].append(2)\n",
    "data = np.asarray(data)\n",
    "labels = np.asarray(labels)\n",
    "Path(\"data\").joinpath(\"SLP\").mkdir(parents=True, exist_ok=True)\n",
    "np.save(\"data/SLP/data.npy\", data)\n",
    "np.save(\"data/SLP/labels.npy\", labels)"
   ]
  },
  {
   "cell_type": "code",
   "execution_count": 9,
   "id": "9d825cf2",
   "metadata": {},
   "outputs": [
    {
     "name": "stdout",
     "output_type": "stream",
     "text": [
      "(102, 135, 192, 84)\n",
      "(102, 135)\n"
     ]
    },
    {
     "data": {
      "text/plain": [
       "<AxesSubplot:>"
      ]
     },
     "execution_count": 9,
     "metadata": {},
     "output_type": "execute_result"
    },
    {
     "data": {
      "image/png": "[encoded data removed]",
      "text/plain": [
       "<Figure size 432x288 with 1 Axes>"
      ]
     },
     "metadata": {
      "needs_background": "light"
     },
     "output_type": "display_data"
    }
   ],
   "source": [
    "data = np.load(\"slp_data.npy\")\n",
    "labels = np.load(\"slp_labels.npy\")\n",
    "print(data.shape)\n",
    "print(labels.shape)\n",
    "plot_image(data[0][0])"
   ]
  },
  {
   "cell_type": "code",
   "execution_count": 10,
   "id": "5c502573",
   "metadata": {},
   "outputs": [
    {
     "name": "stdout",
     "output_type": "stream",
     "text": [
      "(13770, 192, 84)\n"
     ]
    }
   ],
   "source": [
    "print(np.reshape(data, (-1, *data.shape[2:])).shape)"
   ]
  },
  {
   "cell_type": "code",
   "execution_count": 3,
   "id": "2694b9f2",
   "metadata": {},
   "outputs": [
    {
     "name": "stderr",
     "output_type": "stream",
     "text": [
      "Reading Files: [------------------------------------------------------] 221/221\n"
     ]
    }
   ],
   "source": [
    "import utils.dataset as ds\n",
    "import importlib\n",
    "importlib.reload(ds)\n",
    "\n",
    "ds.PhysionetDataset.reload_data_from_source()"
   ]
  },
  {
   "cell_type": "code",
   "execution_count": 5,
   "id": "4af67bc2",
   "metadata": {},
   "outputs": [
    {
     "name": "stdout",
     "output_type": "stream",
     "text": [
      "(12756, 64, 32) (12756,)\n"
     ]
    },
    {
     "data": {
      "text/plain": [
       "<AxesSubplot:>"
      ]
     },
     "execution_count": 5,
     "metadata": {},
     "output_type": "execute_result"
    },
    {
     "data": {
      "image/png": "[encoded data removed]",
      "text/plain": [
       "<Figure size 432x288 with 1 Axes>"
      ]
     },
     "metadata": {
      "needs_background": "light"
     },
     "output_type": "display_data"
    }
   ],
   "source": [
    "physionet = PhysionetDataset(train=True)\n",
    "\n",
    "plot_image(physionet[0][0])"
   ]
  },
  {
   "cell_type": "markdown",
   "id": "216e6969",
   "metadata": {},
   "source": [
    "| Index | Joint          |\n",
    "|-------|----------------|\n",
    "| 0     | Right Ankle    |\n",
    "| 1     | Right Knee     |\n",
    "| 2     | Right Hip      |\n",
    "| 3     | Left Hip       |\n",
    "| 4     | Left Knee      |\n",
    "| 5     | Left Ankle     |\n",
    "| 6     | Right Wrist    |\n",
    "| 7     | Right Elbow    |\n",
    "| 8     | Right Shoulder |\n",
    "| 9     | Left Shoulder  |\n",
    "| 10    | Left Elbow     |\n",
    "| 11    | Left Wrist     |\n",
    "| 12    | Thorax         |\n",
    "| 13    | Head Top       |"
   ]
  },
  {
   "cell_type": "code",
   "execution_count": 34,
   "id": "f8b0de86",
   "metadata": {},
   "outputs": [
    {
     "name": "stdout",
     "output_type": "stream",
     "text": [
      "[[ 57.60843373 113.27108434]\n",
      " [ 37.7381835   92.21455051]\n",
      " [ 60.27757183  72.93744208]\n",
      " [ 62.65013902  74.42029657]\n",
      " [ 39.221038    92.80769231]\n",
      " [ 58.20157553 112.67794254]\n",
      " [ 50.49073216  25.78266914]\n",
      " [ 38.6278962   40.90778499]\n",
      " [ 50.78730306  34.97636701]\n",
      " [ 55.23586654  30.82437442]\n",
      " [ 62.94670992  57.21918443]\n",
      " [ 65.61584801  74.12372567]\n",
      " [ 52.56672845  30.52780352]\n",
      " [ 49.89759036  13.91983318]]\n",
      "(14, 2)\n",
      "True\n",
      "True\n",
      "False\n",
      "True\n"
     ]
    }
   ],
   "source": [
    "import scipy.io\n",
    "from enum import IntEnum\n",
    "\n",
    "X = 0\n",
    "Y = 1\n",
    "\n",
    "class JointIndex(IntEnum):\n",
    "    RIGHTANKLE = 0\n",
    "    RIGHTKNEE = 1\n",
    "    RIGHTHIP = 2\n",
    "    LEFTHIP=3\n",
    "    LEFTKNEE=4\n",
    "    LEFTANKLE=5\n",
    "    RIGHTWRIST=6\n",
    "    RIGHTELBOW=7\n",
    "    RIGHTSHOULDER=8\n",
    "    LEFTSHOULDER=9\n",
    "    LEFTELBOW=10\n",
    "    LEFTWRIST=11\n",
    "    THORAX=12\n",
    "    HEADTOP=13  \n",
    "\n",
    "mat = scipy.io.loadmat('SLP/danaLab/00001/joints_gt_IR.mat')\n",
    "skelli = mat[\"joints_gt\"]\n",
    "\n",
    "skelli = skelli[:2, :, 30]\n",
    "skelli = np.swapaxes(skelli, axis1=0, axis2=1)\n",
    "print(skelli)\n",
    "print(skelli.shape)\n",
    "\n",
    "supine_hip_width = 15\n",
    "supine_shoulder_width = 20\n",
    "\n",
    "hip_is_thin = abs(skelli[JointIndex.LEFTHIP][X] - skelli[JointIndex.RIGHTHIP][X]) < supine_hip_width\n",
    "shoulder_is_thin = abs(skelli[JointIndex.LEFTSHOULDER][X] - skelli[JointIndex.RIGHTSHOULDER][X]) < supine_shoulder_width\n",
    "right_arm_pointing_right = skelli[JointIndex.RIGHTSHOULDER][X] < skelli[JointIndex.RIGHTWRIST][X]\n",
    "left_arm_pointing_right = skelli[JointIndex.LEFTSHOULDER][X] < skelli[JointIndex.LEFTWRIST][X]\n",
    "\n",
    "print(hip_is_thin)\n",
    "print(shoulder_is_thin)\n",
    "print(right_arm_pointing_right)\n",
    "print(left_arm_pointing_right)"
   ]
  }
 ],
 "metadata": {
  "kernelspec": {
   "display_name": "Python 3 (ipykernel)",
   "language": "python",
   "name": "python3"
  },
  "language_info": {
   "codemirror_mode": {
    "name": "ipython",
    "version": 3
   },
   "file_extension": ".py",
   "mimetype": "text/x-python",
   "name": "python",
   "nbconvert_exporter": "python",
   "pygments_lexer": "ipython3",
   "version": "3.9.6"
  }
 },
 "nbformat": 4,
 "nbformat_minor": 5
}
