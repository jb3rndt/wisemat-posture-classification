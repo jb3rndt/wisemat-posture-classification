{
    "cells": [
        {
            "cell_type": "code",
            "execution_count": 22,
            "id": "98b2db5a",
            "metadata": {},
            "outputs": [
                {
                    "data": {
                        "text/plain": [
                            "<module 'utils.dataset' from 'c:\\\\Users\\\\Jannis\\\\Development\\\\wisemat-posture-classification\\\\utils\\\\dataset.py'>"
                        ]
                    },
                    "execution_count": 22,
                    "metadata": {},
                    "output_type": "execute_result"
                }
            ],
            "source": [
                "import random\n",
                "from utils.plots import *\n",
                "from utils.transforms import *\n",
                "import utils.dataset as ds\n",
                "import importlib\n",
                "importlib.reload(ds)"
            ]
        },
        {
            "cell_type": "code",
            "execution_count": 23,
            "id": "bc2297ef",
            "metadata": {
                "scrolled": true
            },
            "outputs": [
                {
                    "name": "stderr",
                    "output_type": "stream",
                    "text": [
                        "Reading Files: [                                                        ] 0/221\n",
                        "Reading Files: [                                                        ] 3/221\n",
                        "Reading Files: [--                                                      ] 8/221\n",
                        "Reading Files: [--                                                      ] 9/221\n",
                        "Reading Files: [--                                                     ] 12/221\n",
                        "Reading Files: [---                                                    ] 14/221\n",
                        "Reading Files: [----                                                   ] 17/221\n",
                        "Reading Files: [----                                                   ] 20/221\n",
                        "Reading Files: [------                                                 ] 25/221\n",
                        "Reading Files: [------                                                 ] 26/221\n",
                        "Reading Files: [------                                                 ] 28/221\n",
                        "Reading Files: [-------                                                ] 31/221\n",
                        "Reading Files: [--------                                               ] 34/221\n",
                        "Reading Files: [---------                                              ] 37/221\n",
                        "Reading Files: [----------                                             ] 42/221\n",
                        "Reading Files: [-----------                                            ] 45/221\n",
                        "Reading Files: [-----------                                            ] 48/221\n",
                        "Reading Files: [------------                                           ] 51/221\n",
                        "Reading Files: [-------------                                          ] 54/221\n",
                        "Reading Files: [--------------                                         ] 59/221\n",
                        "Reading Files: [---------------                                        ] 62/221\n",
                        "Reading Files: [----------------                                       ] 65/221\n",
                        "Reading Files: [----------------                                       ] 68/221\n",
                        "Reading Files: [-----------------                                      ] 70/221\n",
                        "Reading Files: [------------------                                     ] 76/221\n",
                        "Reading Files: [-------------------                                    ] 79/221\n",
                        "Reading Files: [--------------------                                   ] 82/221\n",
                        "Reading Files: [--------------------                                   ] 84/221\n",
                        "Reading Files: [---------------------                                  ] 87/221\n",
                        "Reading Files: [-----------------------                                ] 93/221\n",
                        "Reading Files: [-----------------------                                ] 96/221\n",
                        "Reading Files: [------------------------                               ] 98/221\n",
                        "Reading Files: [------------------------                              ] 101/221\n",
                        "Reading Files: [-------------------------                             ] 104/221\n",
                        "Reading Files: [--------------------------                            ] 110/221\n",
                        "Reading Files: [---------------------------                           ] 112/221\n",
                        "Reading Files: [----------------------------                          ] 115/221\n",
                        "Reading Files: [----------------------------                          ] 118/221\n",
                        "Reading Files: [-----------------------------                         ] 121/221\n",
                        "Reading Files: [-------------------------------                       ] 127/221\n",
                        "Reading Files: [-------------------------------                       ] 129/221\n",
                        "Reading Files: [--------------------------------                      ] 132/221\n",
                        "Reading Files: [--------------------------------                      ] 135/221\n",
                        "Reading Files: [---------------------------------                     ] 138/221\n",
                        "Reading Files: [-----------------------------------                   ] 144/221\n",
                        "Reading Files: [-----------------------------------                   ] 146/221\n",
                        "Reading Files: [------------------------------------                  ] 149/221\n",
                        "Reading Files: [-------------------------------------                 ] 152/221\n",
                        "Reading Files: [-------------------------------------                 ] 154/221\n",
                        "Reading Files: [---------------------------------------               ] 161/221\n",
                        "Reading Files: [---------------------------------------               ] 163/221\n",
                        "Reading Files: [----------------------------------------              ] 166/221\n",
                        "Reading Files: [-----------------------------------------             ] 168/221\n",
                        "Reading Files: [-----------------------------------------             ] 171/221\n",
                        "Reading Files: [-------------------------------------------           ] 178/221\n",
                        "Reading Files: [-------------------------------------------           ] 180/221\n",
                        "Reading Files: [--------------------------------------------          ] 182/221\n",
                        "Reading Files: [---------------------------------------------         ] 185/221\n",
                        "Reading Files: [---------------------------------------------         ] 188/221\n",
                        "Reading Files: [-----------------------------------------------       ] 195/221\n",
                        "Reading Files: [-----------------------------------------------       ] 196/221\n",
                        "Reading Files: [------------------------------------------------      ] 199/221\n",
                        "Reading Files: [-------------------------------------------------     ] 202/221\n",
                        "Reading Files: [--------------------------------------------------    ] 205/221\n",
                        "Reading Files: [---------------------------------------------------   ] 212/221\n",
                        "Reading Files: [----------------------------------------------------  ] 213/221\n",
                        "Reading Files: [----------------------------------------------------  ] 216/221\n",
                        "Reading Files: [----------------------------------------------------- ] 219/221\n",
                        "Reading Files: [------------------------------------------------------] 221/221\n",
                        "Reading Files: [------------------------------------------------------] 221/221\n"
                    ]
                }
            ],
            "source": [
                "# ds.SLPDataset.reload_data_from_source()\n",
                "ds.PhysionetDataset.reload_data_from_source()"
            ]
        },
        {
            "cell_type": "code",
            "execution_count": 12,
            "id": "fae54525",
            "metadata": {},
            "outputs": [],
            "source": [
                "# physionet = ds.PhysionetDataset(train=True)\n",
                "# physionet_test = ds.PhysionetDataset(train=False)\n",
                "slp = ds.SLPDataset(train=True)"
            ]
        },
        {
            "cell_type": "code",
            "execution_count": 26,
            "id": "f75355d0",
            "metadata": {},
            "outputs": [
                {
                    "name": "stdout",
                    "output_type": "stream",
                    "text": [
                        "3\n",
                        "4\n",
                        "(3587,)\n",
                        "2\n"
                    ]
                }
            ],
            "source": [
                "ambienta = ds.AmbientaDataset(train=True)"
            ]
        },
        {
            "cell_type": "code",
            "execution_count": 3,
            "id": "c7fd7035",
            "metadata": {},
            "outputs": [],
            "source": [
                "ds.AmbientaDataset.reload_data_from_source()"
            ]
        },
        {
            "cell_type": "code",
            "execution_count": 4,
            "id": "00e398c3",
            "metadata": {},
            "outputs": [],
            "source": [
                "physionet = ds.PhysionetDataset(train=True)"
            ]
        },
        {
            "cell_type": "code",
            "execution_count": 5,
            "id": "33b955b9",
            "metadata": {},
            "outputs": [],
            "source": [
                "nsamples = 50\n",
                "sample_indices = random.sample(range(0, len(physionet)), nsamples)"
            ]
        },
        {
            "cell_type": "code",
            "execution_count": 21,
            "id": "9d825cf2",
            "metadata": {},
            "outputs": [
                {
                    "name": "stdout",
                    "output_type": "stream",
                    "text": [
                        "10488\n"
                    ]
                },
                {
                    "data": {
                        "image/png": "[encoded data removed]",
                        "text/plain": [
                            "<Figure size 432x288 with 1 Axes>"
                        ]
                    },
                    "metadata": {
                        "needs_background": "light"
                    },
                    "output_type": "display_data"
                }
            ],
            "source": [
                "from utils.transforms import *\n",
                "from utils.plots import *\n",
                "import utils.transforms as tf\n",
                "import utils.plots as vi\n",
                "import importlib\n",
                "\n",
                "importlib.reload(tf)\n",
                "importlib.reload(vi)\n",
                "\n",
                "normalizations = [\n",
                "    Resize((27, 64)),\n",
                "    Standardize(),\n",
                "    NormalizeMinMax(),\n",
                "    EqualizeHist(),\n",
                "    Denoise(),\n",
                "    Blur((3,3)),\n",
                "    Threshold(lambda img: np.median(img)),\n",
                "]\n",
                "\n",
                "# plot_samples(\n",
                "#     list(map(lambda i: physionet[i], sample_indices)),\n",
                "#     ncols=10,\n",
                "#     transform=torchvision.transforms.Compose(normalizations),\n",
                "#     cmap=\"gray\"\n",
                "# )\n",
                "plot_image(torchvision.transforms.Compose([])(physionet[10488][0]), cmap=\"gray\")\n",
                "print(sample_indices[17])\n",
                "np.save(\"test.npy\", torchvision.transforms.Compose(normalizations)(physionet[10488][0]))\n"
            ]
        }
    ],
    "metadata": {
        "interpreter": {
            "hash": "1570699ba4f120b96ddfd0503318136b734b0558b028e188e1a2824f4937ee21"
        },
        "kernelspec": {
            "display_name": "Python 3.9.6 ('venv': venv)",
            "language": "python",
            "name": "python3"
        },
        "language_info": {
            "codemirror_mode": {
                "name": "ipython",
                "version": 3
            },
            "file_extension": ".py",
            "mimetype": "text/x-python",
            "name": "python",
            "nbconvert_exporter": "python",
            "pygments_lexer": "ipython3",
            "version": "3.9.6"
        }
    },
    "nbformat": 4,
    "nbformat_minor": 5
}
