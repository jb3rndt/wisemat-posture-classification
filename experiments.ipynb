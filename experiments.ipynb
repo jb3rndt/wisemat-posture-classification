{
 "cells": [
  {
   "cell_type": "markdown",
   "metadata": {},
   "source": [
    "# Imports\n"
   ]
  },
  {
   "cell_type": "code",
   "execution_count": 1,
   "metadata": {},
   "outputs": [],
   "source": [
    "from utils.transforms import *\n",
    "from utils.experiment import Experiment\n"
   ]
  },
  {
   "cell_type": "markdown",
   "metadata": {},
   "source": [
    "# Baseline\n",
    "\n",
    "- Basic normalization\n",
    "  - normalize values between 0 and 1 because images from the different datasets have different value ranges in the images\n",
    "  - equalizeHist to have a unified brightness and contrast\n",
    "  - normalize mean because it normalizes statistical properties of the images and is a recommended and often used step\n",
    "  - same for standardization\n",
    "- warum diese reihenfolge?\n"
   ]
  },
  {
   "cell_type": "code",
   "execution_count": 2,
   "metadata": {},
   "outputs": [],
   "source": [
    "normalization = [\n",
    "    Resize((32, 64)),\n",
    "    Standardize(),\n",
    "    NormalizeValues(),\n",
    "    EqualizeHist(),\n",
    "    Resize((64, 128)),\n",
    "    ToTensor(),\n",
    "]\n",
    "\n",
    "baseline = Experiment(\"Baseline\", normalization)\n"
   ]
  },
  {
   "cell_type": "code",
   "execution_count": 3,
   "metadata": {},
   "outputs": [
    {
     "name": "stdout",
     "output_type": "stream",
     "text": [
      "Running Experiment >>Baseline<<\n",
      "\u001b[92mReading data took 0.7s\u001b[0m\n"
     ]
    },
    {
     "name": "stderr",
     "output_type": "stream",
     "text": [
      "Train progress: [                                 ] 0/8 Epoch: --- Loss: ------\n",
      "Train progress: [                               ] 0/8 Epoch: 1/2 Loss: ↘ 1.0991\n",
      "Train progress: [---------------                ] 4/8 Epoch: 2/2 Loss: ↘ 1.0815\n",
      "Train progress: [-------------------------------] 8/8 Epoch: 2/2 Loss: ↘ 1.0815\n"
     ]
    },
    {
     "name": "stdout",
     "output_type": "stream",
     "text": [
      "\u001b[92m1. Training took 1.5s\u001b[0m\n",
      "\u001b[92m1. Evaluation took 0.2s\u001b[0m\n"
     ]
    },
    {
     "name": "stderr",
     "output_type": "stream",
     "text": [
      "Train progress: [                                 ] 0/8 Epoch: --- Loss: ------\n",
      "Train progress: [                               ] 0/8 Epoch: 1/2 Loss: ↘ 1.0979\n",
      "Train progress: [---------------                ] 4/8 Epoch: 2/2 Loss: ↘ 1.0955\n",
      "Train progress: [-------------------------------] 8/8 Epoch: 2/2 Loss: ↘ 1.0955\n"
     ]
    },
    {
     "name": "stdout",
     "output_type": "stream",
     "text": [
      "\u001b[92m2. Training took 1.3s\u001b[0m\n",
      "\u001b[92m2. Evaluation took 0.2s\u001b[0m\n",
      "\u001b[92mSuccessfully ran Experiment >>Baseline<<\u001b[0m\n"
     ]
    },
    {
     "data": {
      "image/png": "[encoded data removed]",
      "text/plain": [
       "<Figure size 720x720 with 2 Axes>"
      ]
     },
     "metadata": {
      "needs_background": "light"
     },
     "output_type": "display_data"
    }
   ],
   "source": [
    "baseline.run()"
   ]
  },
  {
   "cell_type": "markdown",
   "metadata": {},
   "source": [
    "# Agressive Thresholding\n"
   ]
  },
  {
   "cell_type": "code",
   "execution_count": 4,
   "metadata": {},
   "outputs": [],
   "source": [
    "agressive_thresholding = Experiment(\n",
    "    \"Agressive Thresholding\",\n",
    "    [\n",
    "        *normalization,\n",
    "        Blur((3, 3)),\n",
    "        Threshold(lambda img: np.median(img[img > 0.0])),\n",
    "    ],\n",
    ")\n"
   ]
  },
  {
   "cell_type": "markdown",
   "metadata": {},
   "source": [
    "# Agressive Thresholding + Sobel\n"
   ]
  },
  {
   "cell_type": "code",
   "execution_count": 5,
   "metadata": {},
   "outputs": [],
   "source": [
    "sobel = Experiment(\n",
    "    \"Agressive Thresholding + Sobel\",\n",
    "    [\n",
    "        *normalization,\n",
    "        Blur((3, 3)),\n",
    "        Threshold(lambda img: np.median(img[img > 0.0])),\n",
    "        Sobel(),\n",
    "        Threshold(lambda img: np.median(img[img > 0.0])),\n",
    "    ],\n",
    ")\n"
   ]
  },
  {
   "cell_type": "markdown",
   "metadata": {},
   "source": [
    "# Rolling Ball + Agressive Thresholding\n"
   ]
  },
  {
   "cell_type": "code",
   "execution_count": 6,
   "metadata": {},
   "outputs": [],
   "source": [
    "rolling_ball = Experiment(\"Rolling Ball + Agressive Thresholding\",\n",
    "    [\n",
    "        *normalization,\n",
    "        RollingBall(radius=5),\n",
    "        Blur((3, 3)),\n",
    "        Threshold(lambda img: np.median(img[img > 0.0])),\n",
    "    ]\n",
    ")\n"
   ]
  },
  {
   "cell_type": "markdown",
   "metadata": {},
   "source": [
    "# Fourier\n"
   ]
  },
  {
   "cell_type": "code",
   "execution_count": 7,
   "metadata": {},
   "outputs": [],
   "source": [
    "fourier = Experiment(\"Fourier\",\n",
    "    [\n",
    "        *normalization,\n",
    "        Denoise(),\n",
    "        Blur((3, 3)),\n",
    "        HighPass(rad=50),\n",
    "        Blur((3, 3)),\n",
    "        Threshold(lambda img: np.median(img[img > 0.0])),\n",
    "    ]\n",
    ")\n"
   ]
  },
  {
   "cell_type": "markdown",
   "metadata": {},
   "source": [
    "# Improving SLP\n",
    "\n",
    "- hier zwei szenarien testen: einmal diese transformation auf beide datensätze anwenden und einmal nur auf slp und agressive thresholding oder so auf physionet\n",
    "- interessante sache: später resizen behält in den schritten davor noch mehr details, womit besser preprocessed werden kann\n",
    "- Potential: Menschen auf slp bildern vergrößern, damit die auf allen druckbildern ungefähr gleich groß sind\n"
   ]
  },
  {
   "cell_type": "code",
   "execution_count": 8,
   "metadata": {},
   "outputs": [],
   "source": [
    "improve_slp = Experiment(\"Improve SLP\",\n",
    "    [\n",
    "        Standardize(),\n",
    "        NormalizeValues(),\n",
    "        EqualizeHist(),\n",
    "        Blur((3, 3)),\n",
    "        Denoise(),\n",
    "        Threshold(lambda img: np.median(img[img > 0.0])),\n",
    "        Close((3, 3), ktype=cv2.MORPH_CROSS, iterations=3),\n",
    "        Blur((3, 3)),\n",
    "        Resize((32, 64)),\n",
    "    ]\n",
    ")\n"
   ]
  },
  {
   "cell_type": "markdown",
   "metadata": {},
   "source": [
    "# Evaluation"
   ]
  },
  {
   "cell_type": "code",
   "execution_count": 9,
   "metadata": {},
   "outputs": [
    {
     "name": "stdout",
     "output_type": "stream",
     "text": [
      "Running Experiment >>Baseline<<\n",
      "\u001b[92mSuccessfully ran Experiment >>Baseline<<\u001b[0m\n",
      "Running Experiment >>Agressive Thresholding<<\n",
      "\u001b[92mSuccessfully ran Experiment >>Agressive Thresholding<<\u001b[0m\n",
      "Running Experiment >>Agressive Thresholding + Sobel<<\n",
      "\u001b[92mSuccessfully ran Experiment >>Agressive Thresholding + Sobel<<\u001b[0m\n",
      "Running Experiment >>Rolling Ball + Agressive Thresholding<<\n",
      "\u001b[92mSuccessfully ran Experiment >>Rolling Ball + Agressive Thresholding<<\u001b[0m\n",
      "Running Experiment >>Fourier<<\n",
      "\u001b[92mSuccessfully ran Experiment >>Fourier<<\u001b[0m\n"
     ]
    },
    {
     "ename": "AttributeError",
     "evalue": "'tuple' object has no attribute 'run'",
     "output_type": "error",
     "traceback": [
      "\u001b[1;31m---------------------------------------------------------------------------\u001b[0m",
      "\u001b[1;31mAttributeError\u001b[0m                            Traceback (most recent call last)",
      "\u001b[1;32mc:\\Users\\Jannis\\Development\\wisemat-posture-classification\\experiments.ipynb Cell 18'\u001b[0m in \u001b[0;36m<cell line: 3>\u001b[1;34m()\u001b[0m\n\u001b[0;32m      <a href='vscode-notebook-cell:/c%3A/Users/Jannis/Development/wisemat-posture-classification/experiments.ipynb#ch0000019?line=0'>1</a>\u001b[0m experiments \u001b[39m=\u001b[39m [baseline, agressive_thresholding, sobel, rolling_ball, fourier, improve_slp]\n\u001b[0;32m      <a href='vscode-notebook-cell:/c%3A/Users/Jannis/Development/wisemat-posture-classification/experiments.ipynb#ch0000019?line=2'>3</a>\u001b[0m \u001b[39mfor\u001b[39;00m experiment \u001b[39min\u001b[39;00m experiments:\n\u001b[1;32m----> <a href='vscode-notebook-cell:/c%3A/Users/Jannis/Development/wisemat-posture-classification/experiments.ipynb#ch0000019?line=3'>4</a>\u001b[0m     experiment\u001b[39m.\u001b[39;49mrun()\n",
      "\u001b[1;31mAttributeError\u001b[0m: 'tuple' object has no attribute 'run'"
     ]
    }
   ],
   "source": [
    "experiments = [baseline]#, agressive_thresholding, sobel, rolling_ball, fourier, improve_slp]\n",
    "\n",
    "for experiment in experiments:\n",
    "    experiment.run()"
   ]
  }
 ],
 "metadata": {
  "interpreter": {
   "hash": "18bc3e6d045953566fb4097cd9d4ed00cfef7f63517f0bc2913714960cb28203"
  },
  "kernelspec": {
   "display_name": "Python 3.9.6 ('venv': venv)",
   "language": "python",
   "name": "python3"
  },
  "language_info": {
   "codemirror_mode": {
    "name": "ipython",
    "version": 3
   },
   "file_extension": ".py",
   "mimetype": "text/x-python",
   "name": "python",
   "nbconvert_exporter": "python",
   "pygments_lexer": "ipython3",
   "version": "3.9.6"
  },
  "orig_nbformat": 4
 },
 "nbformat": 4,
 "nbformat_minor": 2
}
