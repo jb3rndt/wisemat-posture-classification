{
 "cells": [
  {
   "cell_type": "markdown",
   "metadata": {},
   "source": [
    "# Imports\n"
   ]
  },
  {
   "cell_type": "code",
   "execution_count": 1,
   "metadata": {},
   "outputs": [],
   "source": [
    "from utils.transforms import *\n",
    "from utils.dataset import *\n",
    "from utils.experiment import Experiment\n"
   ]
  },
  {
   "cell_type": "markdown",
   "metadata": {},
   "source": [
    "# Baseline\n",
    "\n",
    "- Basic normalization\n",
    "  - normalize values between 0 and 1 because images from the different datasets have different value ranges in the images\n",
    "  - equalizeHist to have a unified brightness and contrast\n",
    "  - normalize mean because it normalizes statistical properties of the images and is a recommended and often used step\n",
    "  - same for standardization\n",
    "- warum diese reihenfolge?\n"
   ]
  },
  {
   "cell_type": "code",
   "execution_count": 2,
   "metadata": {},
   "outputs": [],
   "source": [
    "normalization = [\n",
    "    Resize((32, 64)),\n",
    "    Standardize(),\n",
    "    NormalizeValues(),\n",
    "    EqualizeHist(),\n",
    "    Resize((64, 128)),\n",
    "    ToTensor(),\n",
    "]\n",
    "\n",
    "baseline = Experiment(\"Baseline\", normalization)\n"
   ]
  },
  {
   "cell_type": "code",
   "execution_count": 3,
   "metadata": {},
   "outputs": [
    {
     "name": "stdout",
     "output_type": "stream",
     "text": [
      "Running Experiment >>Baseline<<\n",
      "\u001b[92mReading data took 1.3s\u001b[0m\n"
     ]
    },
    {
     "name": "stderr",
     "output_type": "stream",
     "text": [
      "Train progress: [                               ] 0/737 Epoch: --- Loss: ------\n",
      "Train progress: [                             ] 9/737 Epoch: 1/1 Loss: ↘ 1.0960\n",
      "Train progress: [                            ] 19/737 Epoch: 1/1 Loss: ↘ 1.0679\n",
      "Train progress: [-                           ] 29/737 Epoch: 1/1 Loss: ↘ 1.0182\n",
      "Train progress: [-                           ] 39/737 Epoch: 1/1 Loss: ↗ 1.0633\n",
      "Train progress: [-                           ] 49/737 Epoch: 1/1 Loss: ↘ 1.0134\n",
      "Train progress: [--                          ] 59/737 Epoch: 1/1 Loss: ↗ 1.0297\n",
      "Train progress: [--                          ] 69/737 Epoch: 1/1 Loss: ↘ 1.0091\n",
      "Train progress: [---                         ] 79/737 Epoch: 1/1 Loss: ↗ 1.0448\n",
      "Train progress: [---                         ] 89/737 Epoch: 1/1 Loss: ↗ 1.0664\n",
      "Train progress: [---                         ] 99/737 Epoch: 1/1 Loss: ↘ 1.0158\n",
      "Train progress: [---                        ] 109/737 Epoch: 1/1 Loss: ↘ 0.8945\n",
      "Train progress: [----                       ] 119/737 Epoch: 1/1 Loss: ↗ 1.0302\n",
      "Train progress: [----                       ] 129/737 Epoch: 1/1 Loss: ↘ 0.9395\n",
      "Train progress: [-----                      ] 139/737 Epoch: 1/1 Loss: ↘ 0.7898\n",
      "Train progress: [-----                      ] 149/737 Epoch: 1/1 Loss: ↗ 0.8820\n",
      "Train progress: [-----                      ] 159/737 Epoch: 1/1 Loss: ↘ 0.6777\n",
      "Train progress: [------                     ] 169/737 Epoch: 1/1 Loss: ↘ 0.6739\n",
      "Train progress: [------                     ] 179/737 Epoch: 1/1 Loss: ↘ 0.6709\n",
      "Train progress: [------                     ] 189/737 Epoch: 1/1 Loss: ↗ 0.7619\n",
      "Train progress: [-------                    ] 199/737 Epoch: 1/1 Loss: ↘ 0.5368\n",
      "Train progress: [-------                    ] 209/737 Epoch: 1/1 Loss: ↗ 0.6270\n",
      "Train progress: [--------                   ] 219/737 Epoch: 1/1 Loss: ↘ 0.3913\n",
      "Train progress: [--------                   ] 229/737 Epoch: 1/1 Loss: ↘ 0.3580\n",
      "Train progress: [--------                   ] 239/737 Epoch: 1/1 Loss: ↗ 0.4699\n",
      "Train progress: [---------                  ] 249/737 Epoch: 1/1 Loss: ↗ 0.5294\n",
      "Train progress: [---------                  ] 259/737 Epoch: 1/1 Loss: ↘ 0.3536\n",
      "Train progress: [---------                  ] 269/737 Epoch: 1/1 Loss: ↘ 0.3523\n",
      "Train progress: [----------                 ] 279/737 Epoch: 1/1 Loss: ↘ 0.2390\n",
      "Train progress: [----------                 ] 289/737 Epoch: 1/1 Loss: ↗ 0.4542\n",
      "Train progress: [----------                 ] 299/737 Epoch: 1/1 Loss: ↘ 0.4089\n",
      "Train progress: [-----------                ] 309/737 Epoch: 1/1 Loss: ↘ 0.2847\n",
      "Train progress: [-----------                ] 319/737 Epoch: 1/1 Loss: ↘ 0.1884\n",
      "Train progress: [------------               ] 329/737 Epoch: 1/1 Loss: ↗ 0.6129\n",
      "Train progress: [------------               ] 339/737 Epoch: 1/1 Loss: ↘ 0.2274\n",
      "Train progress: [------------               ] 349/737 Epoch: 1/1 Loss: ↗ 0.2462\n",
      "Train progress: [-------------              ] 359/737 Epoch: 1/1 Loss: ↘ 0.2014\n",
      "Train progress: [-------------              ] 369/737 Epoch: 1/1 Loss: ↗ 0.3095\n",
      "Train progress: [-------------              ] 379/737 Epoch: 1/1 Loss: ↘ 0.1254\n",
      "Train progress: [--------------             ] 389/737 Epoch: 1/1 Loss: ↗ 0.3535\n",
      "Train progress: [--------------             ] 399/737 Epoch: 1/1 Loss: ↘ 0.1363\n",
      "Train progress: [--------------             ] 409/737 Epoch: 1/1 Loss: ↗ 0.1862\n",
      "Train progress: [---------------            ] 419/737 Epoch: 1/1 Loss: ↗ 0.1991\n",
      "Train progress: [---------------            ] 429/737 Epoch: 1/1 Loss: ↘ 0.0936\n",
      "Train progress: [----------------           ] 439/737 Epoch: 1/1 Loss: ↗ 0.2788\n",
      "Train progress: [----------------           ] 449/737 Epoch: 1/1 Loss: ↘ 0.1940\n",
      "Train progress: [----------------           ] 459/737 Epoch: 1/1 Loss: ↘ 0.1743\n",
      "Train progress: [-----------------          ] 469/737 Epoch: 1/1 Loss: ↗ 0.2211\n",
      "Train progress: [-----------------          ] 479/737 Epoch: 1/1 Loss: ↗ 0.2394\n",
      "Train progress: [-----------------          ] 489/737 Epoch: 1/1 Loss: ↗ 0.2626\n",
      "Train progress: [------------------         ] 499/737 Epoch: 1/1 Loss: ↘ 0.1084\n",
      "Train progress: [------------------         ] 509/737 Epoch: 1/1 Loss: ↗ 0.2690\n",
      "Train progress: [-------------------        ] 519/737 Epoch: 1/1 Loss: ↗ 0.6176\n",
      "Train progress: [-------------------        ] 529/737 Epoch: 1/1 Loss: ↘ 0.1217\n",
      "Train progress: [-------------------        ] 539/737 Epoch: 1/1 Loss: ↗ 0.1348\n",
      "Train progress: [--------------------       ] 549/737 Epoch: 1/1 Loss: ↗ 0.1924\n",
      "Train progress: [--------------------       ] 559/737 Epoch: 1/1 Loss: ↘ 0.1074\n",
      "Train progress: [--------------------       ] 569/737 Epoch: 1/1 Loss: ↗ 0.1228\n",
      "Train progress: [---------------------      ] 579/737 Epoch: 1/1 Loss: ↗ 0.2049\n",
      "Train progress: [---------------------      ] 589/737 Epoch: 1/1 Loss: ↘ 0.0625\n",
      "Train progress: [---------------------      ] 599/737 Epoch: 1/1 Loss: ↗ 0.2713\n",
      "Train progress: [----------------------     ] 609/737 Epoch: 1/1 Loss: ↘ 0.2331\n",
      "Train progress: [----------------------     ] 619/737 Epoch: 1/1 Loss: ↗ 0.2602\n",
      "Train progress: [-----------------------    ] 629/737 Epoch: 1/1 Loss: ↘ 0.0685\n",
      "Train progress: [-----------------------    ] 639/737 Epoch: 1/1 Loss: ↗ 0.3562\n",
      "Train progress: [-----------------------    ] 649/737 Epoch: 1/1 Loss: ↘ 0.1046\n",
      "Train progress: [------------------------   ] 659/737 Epoch: 1/1 Loss: ↗ 0.1531\n",
      "Train progress: [------------------------   ] 669/737 Epoch: 1/1 Loss: ↘ 0.1223\n",
      "Train progress: [------------------------   ] 679/737 Epoch: 1/1 Loss: ↗ 0.1228\n",
      "Train progress: [-------------------------  ] 689/737 Epoch: 1/1 Loss: ↗ 0.5078\n",
      "Train progress: [-------------------------  ] 699/737 Epoch: 1/1 Loss: ↘ 0.0853\n",
      "Train progress: [-------------------------  ] 709/737 Epoch: 1/1 Loss: ↗ 0.1138\n",
      "Train progress: [-------------------------- ] 719/737 Epoch: 1/1 Loss: ↘ 0.0485\n",
      "Train progress: [-------------------------- ] 729/737 Epoch: 1/1 Loss: ↗ 0.3768\n",
      "Train progress: [---------------------------] 737/737 Epoch: 1/1 Loss: ↗ 0.3768\n"
     ]
    },
    {
     "name": "stdout",
     "output_type": "stream",
     "text": [
      "\u001b[92mTraining took 2m 7.2s\u001b[0m\n",
      "\u001b[92mEvaluating took 19.9s\u001b[0m\n",
      "Normalized confusion matrix\n",
      "\u001b[92mSuccessfully ran Experiment >>Baseline<<\u001b[0m\n"
     ]
    },
    {
     "data": {
      "image/png": "[encoded data removed]",
      "text/plain": [
       "<Figure size 720x720 with 2 Axes>"
      ]
     },
     "metadata": {
      "needs_background": "dark"
     },
     "output_type": "display_data"
    }
   ],
   "source": [
    "baseline.run()"
   ]
  },
  {
   "cell_type": "markdown",
   "metadata": {},
   "source": [
    "# Agressive Thresholding\n"
   ]
  },
  {
   "cell_type": "code",
   "execution_count": 4,
   "metadata": {},
   "outputs": [],
   "source": [
    "agressive_thresholding = Experiment(\n",
    "    \"Agressive Thresholding\",\n",
    "    [\n",
    "        *normalization,\n",
    "        Blur((3, 3)),\n",
    "        Threshold(lambda img: np.median(img[img > 0.0])),\n",
    "    ],\n",
    ")\n"
   ]
  },
  {
   "cell_type": "markdown",
   "metadata": {},
   "source": [
    "# Agressive Thresholding + Sobel\n"
   ]
  },
  {
   "cell_type": "code",
   "execution_count": 5,
   "metadata": {},
   "outputs": [],
   "source": [
    "sobel = Experiment(\n",
    "    \"Agressive Thresholding + Sobel\",\n",
    "    [\n",
    "        *normalization,\n",
    "        Blur((3, 3)),\n",
    "        Threshold(lambda img: np.median(img[img > 0.0])),\n",
    "        Sobel(),\n",
    "        Threshold(lambda img: np.median(img[img > 0.0])),\n",
    "    ],\n",
    ")\n"
   ]
  },
  {
   "cell_type": "markdown",
   "metadata": {},
   "source": [
    "# Rolling Ball + Agressive Thresholding\n"
   ]
  },
  {
   "cell_type": "code",
   "execution_count": 6,
   "metadata": {},
   "outputs": [],
   "source": [
    "rolling_ball = Experiment(\"Rolling Ball + Agressive Thresholding\",\n",
    "    [\n",
    "        *normalization,\n",
    "        RollingBall(radius=5),\n",
    "        Blur((3, 3)),\n",
    "        Threshold(lambda img: np.median(img[img > 0.0])),\n",
    "    ]\n",
    ")\n"
   ]
  },
  {
   "cell_type": "markdown",
   "metadata": {},
   "source": [
    "# Fourier\n"
   ]
  },
  {
   "cell_type": "code",
   "execution_count": 7,
   "metadata": {},
   "outputs": [],
   "source": [
    "fourier = Experiment(\"Fourier\",\n",
    "    [\n",
    "        *normalization,\n",
    "        Denoise(),\n",
    "        Blur((3, 3)),\n",
    "        HighPass(rad=50),\n",
    "        Blur((3, 3)),\n",
    "        Threshold(lambda img: np.median(img[img > 0.0])),\n",
    "    ]\n",
    ")\n"
   ]
  },
  {
   "cell_type": "markdown",
   "metadata": {},
   "source": [
    "# Improving SLP\n",
    "\n",
    "- hier zwei szenarien testen: einmal diese transformation auf beide datensätze anwenden und einmal nur auf slp und agressive thresholding oder so auf physionet\n",
    "- interessante sache: später resizen behält in den schritten davor noch mehr details, womit besser preprocessed werden kann\n",
    "- Potential: Menschen auf slp bildern vergrößern, damit die auf allen druckbildern ungefähr gleich groß sind\n"
   ]
  },
  {
   "cell_type": "code",
   "execution_count": 8,
   "metadata": {},
   "outputs": [],
   "source": [
    "improve_slp = Experiment(\"Improve SLP\",\n",
    "    [\n",
    "        Standardize(),\n",
    "        NormalizeValues(),\n",
    "        EqualizeHist(),\n",
    "        Blur((3, 3)),\n",
    "        Denoise(),\n",
    "        Threshold(lambda img: np.median(img[img > 0.0])),\n",
    "        Close((3, 3), ktype=cv2.MORPH_CROSS, iterations=3),\n",
    "        Blur((3, 3)),\n",
    "        Resize((32, 64)),\n",
    "    ]\n",
    ")\n"
   ]
  },
  {
   "cell_type": "markdown",
   "metadata": {},
   "source": [
    "# Evaluation"
   ]
  },
  {
   "cell_type": "code",
   "execution_count": 9,
   "metadata": {},
   "outputs": [
    {
     "name": "stdout",
     "output_type": "stream",
     "text": [
      "Running Experiment >>Baseline<<\n",
      "\u001b[92mSuccessfully ran Experiment >>Baseline<<\u001b[0m\n",
      "Running Experiment >>Agressive Thresholding<<\n",
      "\u001b[92mSuccessfully ran Experiment >>Agressive Thresholding<<\u001b[0m\n",
      "Running Experiment >>Agressive Thresholding + Sobel<<\n",
      "\u001b[92mSuccessfully ran Experiment >>Agressive Thresholding + Sobel<<\u001b[0m\n",
      "Running Experiment >>Rolling Ball + Agressive Thresholding<<\n",
      "\u001b[92mSuccessfully ran Experiment >>Rolling Ball + Agressive Thresholding<<\u001b[0m\n",
      "Running Experiment >>Fourier<<\n",
      "\u001b[92mSuccessfully ran Experiment >>Fourier<<\u001b[0m\n"
     ]
    },
    {
     "ename": "AttributeError",
     "evalue": "'tuple' object has no attribute 'run'",
     "output_type": "error",
     "traceback": [
      "\u001b[1;31m---------------------------------------------------------------------------\u001b[0m",
      "\u001b[1;31mAttributeError\u001b[0m                            Traceback (most recent call last)",
      "\u001b[1;32mc:\\Users\\Jannis\\Development\\wisemat-posture-classification\\experiments.ipynb Cell 18'\u001b[0m in \u001b[0;36m<cell line: 3>\u001b[1;34m()\u001b[0m\n\u001b[0;32m      <a href='vscode-notebook-cell:/c%3A/Users/Jannis/Development/wisemat-posture-classification/experiments.ipynb#ch0000019?line=0'>1</a>\u001b[0m experiments \u001b[39m=\u001b[39m [baseline, agressive_thresholding, sobel, rolling_ball, fourier, improve_slp]\n\u001b[0;32m      <a href='vscode-notebook-cell:/c%3A/Users/Jannis/Development/wisemat-posture-classification/experiments.ipynb#ch0000019?line=2'>3</a>\u001b[0m \u001b[39mfor\u001b[39;00m experiment \u001b[39min\u001b[39;00m experiments:\n\u001b[1;32m----> <a href='vscode-notebook-cell:/c%3A/Users/Jannis/Development/wisemat-posture-classification/experiments.ipynb#ch0000019?line=3'>4</a>\u001b[0m     experiment\u001b[39m.\u001b[39;49mrun()\n",
      "\u001b[1;31mAttributeError\u001b[0m: 'tuple' object has no attribute 'run'"
     ]
    }
   ],
   "source": [
    "experiments = [baseline]#, agressive_thresholding, sobel, rolling_ball, fourier, improve_slp]\n",
    "\n",
    "for experiment in experiments:\n",
    "    experiment.run()"
   ]
  }
 ],
 "metadata": {
  "interpreter": {
   "hash": "1570699ba4f120b96ddfd0503318136b734b0558b028e188e1a2824f4937ee21"
  },
  "kernelspec": {
   "display_name": "Python 3.9.6 ('venv': venv)",
   "language": "python",
   "name": "python3"
  },
  "language_info": {
   "codemirror_mode": {
    "name": "ipython",
    "version": 3
   },
   "file_extension": ".py",
   "mimetype": "text/x-python",
   "name": "python",
   "nbconvert_exporter": "python",
   "pygments_lexer": "ipython3",
   "version": "3.9.6"
  },
  "orig_nbformat": 4
 },
 "nbformat": 4,
 "nbformat_minor": 2
}
