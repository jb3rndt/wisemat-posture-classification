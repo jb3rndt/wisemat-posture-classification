{
 "cells": [
  {
   "cell_type": "markdown",
   "metadata": {},
   "source": [
    "# Imports\n"
   ]
  },
  {
   "cell_type": "code",
   "execution_count": 1,
   "metadata": {},
   "outputs": [],
   "source": [
    "from utils.transforms import *\n",
    "from utils.dataset import *\n",
    "from utils.experiment import Experiment\n"
   ]
  },
  {
   "cell_type": "markdown",
   "metadata": {},
   "source": [
    "# Baseline\n",
    "\n",
    "- Basic normalization\n",
    "  - normalize values between 0 and 1 because images from the different datasets have different value ranges in the images\n",
    "  - equalizeHist to have a unified brightness and contrast\n",
    "  - normalize mean because it normalizes statistical properties of the images and is a recommended and often used step\n",
    "  - same for standardization\n",
    "- warum diese reihenfolge?\n"
   ]
  },
  {
   "cell_type": "code",
   "execution_count": 2,
   "metadata": {},
   "outputs": [],
   "source": [
    "normalization = [\n",
    "    Resize((32, 64)),\n",
    "    Standardize(),\n",
    "    NormalizeValues(),\n",
    "    EqualizeHist(),\n",
    "    Resize((64, 128)),\n",
    "    ToTensor(),\n",
    "]\n",
    "\n",
    "baseline = Experiment(\"Baseline\", normalization)\n"
   ]
  },
  {
   "cell_type": "code",
   "execution_count": 3,
   "metadata": {},
   "outputs": [
    {
     "name": "stdout",
     "output_type": "stream",
     "text": [
      "Running Experiment >>Baseline<<\n",
      "torch.Size([32, 8192])\n"
     ]
    },
    {
     "name": "stderr",
     "output_type": "stream",
     "text": [
      "Train progress: [                              ] 0/1474 Epoch: --- Loss: ------\n",
      "Train progress: [                            ] 9/1474 Epoch: 1/2 Loss: ↘ 1.0825\n",
      "Train progress: [                           ] 19/1474 Epoch: 1/2 Loss: ↘ 1.0689\n",
      "Train progress: [                           ] 29/1474 Epoch: 1/2 Loss: ↘ 1.0273\n",
      "Train progress: [                           ] 39/1474 Epoch: 1/2 Loss: ↗ 1.0624\n",
      "Train progress: [                           ] 49/1474 Epoch: 1/2 Loss: ↘ 1.0307\n",
      "Train progress: [-                          ] 59/1474 Epoch: 1/2 Loss: ↗ 1.0340\n",
      "Train progress: [-                          ] 69/1474 Epoch: 1/2 Loss: ↘ 1.0024\n",
      "Train progress: [-                          ] 79/1474 Epoch: 1/2 Loss: ↘ 0.9987\n",
      "Train progress: [-                          ] 89/1474 Epoch: 1/2 Loss: ↗ 1.0624\n",
      "Train progress: [-                          ] 99/1474 Epoch: 1/2 Loss: ↘ 1.0050\n",
      "Train progress: [-                         ] 109/1474 Epoch: 1/2 Loss: ↘ 1.0022\n",
      "Train progress: [--                        ] 119/1474 Epoch: 1/2 Loss: ↗ 1.0378\n",
      "Train progress: [--                        ] 129/1474 Epoch: 1/2 Loss: ↘ 1.0009\n",
      "Train progress: [--                        ] 139/1474 Epoch: 1/2 Loss: ↘ 0.9436\n",
      "Train progress: [--                        ] 149/1474 Epoch: 1/2 Loss: ↘ 0.8964\n",
      "Train progress: [--                        ] 159/1474 Epoch: 1/2 Loss: ↘ 0.8466\n",
      "Train progress: [--                        ] 169/1474 Epoch: 1/2 Loss: ↘ 0.7701\n",
      "Train progress: [---                       ] 179/1474 Epoch: 1/2 Loss: ↘ 0.6780\n",
      "Train progress: [---                       ] 189/1474 Epoch: 1/2 Loss: ↘ 0.5480\n",
      "Train progress: [---                       ] 199/1474 Epoch: 1/2 Loss: ↗ 0.6310\n",
      "Train progress: [---                       ] 209/1474 Epoch: 1/2 Loss: ↘ 0.5814\n",
      "Train progress: [---                       ] 219/1474 Epoch: 1/2 Loss: ↗ 0.7447\n",
      "Train progress: [----                      ] 229/1474 Epoch: 1/2 Loss: ↘ 0.5296\n",
      "Train progress: [----                      ] 239/1474 Epoch: 1/2 Loss: ↘ 0.4074\n",
      "Train progress: [----                      ] 249/1474 Epoch: 1/2 Loss: ↗ 0.4931\n",
      "Train progress: [----                      ] 259/1474 Epoch: 1/2 Loss: ↘ 0.3446\n",
      "Train progress: [----                      ] 269/1474 Epoch: 1/2 Loss: ↘ 0.2612\n",
      "Train progress: [----                      ] 279/1474 Epoch: 1/2 Loss: ↗ 0.3205\n",
      "Train progress: [-----                     ] 289/1474 Epoch: 1/2 Loss: ↗ 0.5205\n",
      "Train progress: [-----                     ] 299/1474 Epoch: 1/2 Loss: ↘ 0.2800\n",
      "Train progress: [-----                     ] 309/1474 Epoch: 1/2 Loss: ↘ 0.2241\n",
      "Train progress: [-----                     ] 319/1474 Epoch: 1/2 Loss: ↗ 0.3589\n",
      "Train progress: [-----                     ] 329/1474 Epoch: 1/2 Loss: ↘ 0.2488\n",
      "Train progress: [-----                     ] 339/1474 Epoch: 1/2 Loss: ↘ 0.1424\n",
      "Train progress: [------                    ] 349/1474 Epoch: 1/2 Loss: ↗ 0.2299\n",
      "Train progress: [------                    ] 359/1474 Epoch: 1/2 Loss: ↗ 0.4167\n",
      "Train progress: [------                    ] 369/1474 Epoch: 1/2 Loss: ↘ 0.1701\n",
      "Train progress: [------                    ] 379/1474 Epoch: 1/2 Loss: ↘ 0.1406\n",
      "Train progress: [------                    ] 389/1474 Epoch: 1/2 Loss: ↗ 0.2595\n",
      "Train progress: [-------                   ] 399/1474 Epoch: 1/2 Loss: ↗ 0.3902\n",
      "Train progress: [-------                   ] 409/1474 Epoch: 1/2 Loss: ↘ 0.2552\n",
      "Train progress: [-------                   ] 419/1474 Epoch: 1/2 Loss: ↘ 0.1967\n",
      "Train progress: [-------                   ] 429/1474 Epoch: 1/2 Loss: ↘ 0.1328\n",
      "Train progress: [-------                   ] 439/1474 Epoch: 1/2 Loss: ↗ 0.1477\n",
      "Train progress: [-------                   ] 449/1474 Epoch: 1/2 Loss: ↘ 0.0851\n",
      "Train progress: [--------                  ] 459/1474 Epoch: 1/2 Loss: ↗ 0.1848\n",
      "Train progress: [--------                  ] 469/1474 Epoch: 1/2 Loss: ↗ 0.1887\n",
      "Train progress: [--------                  ] 479/1474 Epoch: 1/2 Loss: ↘ 0.1705\n",
      "Train progress: [--------                  ] 489/1474 Epoch: 1/2 Loss: ↘ 0.1541\n",
      "Train progress: [--------                  ] 499/1474 Epoch: 1/2 Loss: ↗ 0.2222\n",
      "Train progress: [--------                  ] 509/1474 Epoch: 1/2 Loss: ↗ 0.4626\n",
      "Train progress: [---------                 ] 519/1474 Epoch: 1/2 Loss: ↘ 0.1153\n",
      "Train progress: [---------                 ] 529/1474 Epoch: 1/2 Loss: ↗ 0.3494\n",
      "Train progress: [---------                 ] 539/1474 Epoch: 1/2 Loss: ↘ 0.2566\n",
      "Train progress: [---------                 ] 549/1474 Epoch: 1/2 Loss: ↗ 0.3559\n",
      "Train progress: [---------                 ] 559/1474 Epoch: 1/2 Loss: ↘ 0.3245\n",
      "Train progress: [----------                ] 569/1474 Epoch: 1/2 Loss: ↘ 0.0420\n",
      "Train progress: [----------                ] 579/1474 Epoch: 1/2 Loss: ↗ 0.1425\n",
      "Train progress: [----------                ] 589/1474 Epoch: 1/2 Loss: ↘ 0.1166\n",
      "Train progress: [----------                ] 599/1474 Epoch: 1/2 Loss: ↘ 0.0451\n",
      "Train progress: [----------                ] 609/1474 Epoch: 1/2 Loss: ↗ 0.1371\n",
      "Train progress: [----------                ] 619/1474 Epoch: 1/2 Loss: ↗ 0.5525\n",
      "Train progress: [-----------               ] 629/1474 Epoch: 1/2 Loss: ↘ 0.4417\n",
      "Train progress: [-----------               ] 639/1474 Epoch: 1/2 Loss: ↘ 0.2310\n",
      "Train progress: [-----------               ] 649/1474 Epoch: 1/2 Loss: ↘ 0.1294\n",
      "Train progress: [-----------               ] 659/1474 Epoch: 1/2 Loss: ↗ 0.1673\n",
      "Train progress: [-----------               ] 669/1474 Epoch: 1/2 Loss: ↗ 0.2155\n",
      "Train progress: [-----------               ] 679/1474 Epoch: 1/2 Loss: ↗ 0.3137\n",
      "Train progress: [------------              ] 689/1474 Epoch: 1/2 Loss: ↘ 0.1181\n",
      "Train progress: [------------              ] 699/1474 Epoch: 1/2 Loss: ↗ 0.1191\n",
      "Train progress: [------------              ] 709/1474 Epoch: 1/2 Loss: ↗ 0.1735\n",
      "Train progress: [------------              ] 719/1474 Epoch: 1/2 Loss: ↗ 0.1806\n",
      "Train progress: [------------              ] 729/1474 Epoch: 1/2 Loss: ↗ 0.1965\n",
      "Train progress: [-------------             ] 746/1474 Epoch: 2/2 Loss: ↘ 0.1277\n",
      "Train progress: [-------------             ] 756/1474 Epoch: 2/2 Loss: ↘ 0.0422\n",
      "Train progress: [-------------             ] 766/1474 Epoch: 2/2 Loss: ↗ 0.1947\n",
      "Train progress: [-------------             ] 776/1474 Epoch: 2/2 Loss: ↗ 0.2020\n",
      "Train progress: [-------------             ] 786/1474 Epoch: 2/2 Loss: ↗ 0.3510\n",
      "Train progress: [--------------            ] 796/1474 Epoch: 2/2 Loss: ↘ 0.1041\n",
      "Train progress: [--------------            ] 806/1474 Epoch: 2/2 Loss: ↗ 0.1329\n",
      "Train progress: [--------------            ] 816/1474 Epoch: 2/2 Loss: ↗ 0.1408\n",
      "Train progress: [--------------            ] 826/1474 Epoch: 2/2 Loss: ↗ 0.2237\n",
      "Train progress: [--------------            ] 836/1474 Epoch: 2/2 Loss: ↘ 0.1700\n",
      "Train progress: [--------------            ] 846/1474 Epoch: 2/2 Loss: ↗ 0.2705\n",
      "Train progress: [---------------           ] 856/1474 Epoch: 2/2 Loss: ↘ 0.1345\n",
      "Train progress: [---------------           ] 866/1474 Epoch: 2/2 Loss: ↗ 0.1580\n",
      "Train progress: [---------------           ] 876/1474 Epoch: 2/2 Loss: ↘ 0.0755\n",
      "Train progress: [---------------           ] 886/1474 Epoch: 2/2 Loss: ↗ 0.4270\n",
      "Train progress: [---------------           ] 896/1474 Epoch: 2/2 Loss: ↘ 0.0469\n",
      "Train progress: [---------------           ] 906/1474 Epoch: 2/2 Loss: ↗ 0.0874\n",
      "Train progress: [----------------          ] 916/1474 Epoch: 2/2 Loss: ↘ 0.0419\n",
      "Train progress: [----------------          ] 926/1474 Epoch: 2/2 Loss: ↗ 0.3117\n",
      "Train progress: [----------------          ] 936/1474 Epoch: 2/2 Loss: ↘ 0.0589\n",
      "Train progress: [----------------          ] 946/1474 Epoch: 2/2 Loss: ↗ 0.4267\n",
      "Train progress: [----------------          ] 956/1474 Epoch: 2/2 Loss: ↘ 0.0297\n",
      "Train progress: [-----------------         ] 966/1474 Epoch: 2/2 Loss: ↗ 0.1190\n",
      "Train progress: [-----------------         ] 976/1474 Epoch: 2/2 Loss: ↗ 0.1916\n",
      "Train progress: [-----------------         ] 986/1474 Epoch: 2/2 Loss: ↘ 0.1608\n",
      "Train progress: [-----------------         ] 996/1474 Epoch: 2/2 Loss: ↘ 0.0450\n",
      "Train progress: [-----------------        ] 1006/1474 Epoch: 2/2 Loss: ↘ 0.0410\n",
      "Train progress: [-----------------        ] 1016/1474 Epoch: 2/2 Loss: ↗ 0.0806\n",
      "Train progress: [-----------------        ] 1026/1474 Epoch: 2/2 Loss: ↗ 0.1027\n",
      "Train progress: [-----------------        ] 1036/1474 Epoch: 2/2 Loss: ↗ 0.1787\n",
      "Train progress: [-----------------        ] 1046/1474 Epoch: 2/2 Loss: ↘ 0.0299\n",
      "Train progress: [-----------------        ] 1056/1474 Epoch: 2/2 Loss: ↗ 0.0999\n",
      "Train progress: [------------------       ] 1066/1474 Epoch: 2/2 Loss: ↗ 0.3537\n",
      "Train progress: [------------------       ] 1076/1474 Epoch: 2/2 Loss: ↘ 0.0392\n",
      "Train progress: [------------------       ] 1086/1474 Epoch: 2/2 Loss: ↗ 0.1028\n",
      "Train progress: [------------------       ] 1096/1474 Epoch: 2/2 Loss: ↗ 0.3790\n",
      "Train progress: [------------------       ] 1106/1474 Epoch: 2/2 Loss: ↘ 0.2035\n",
      "Train progress: [------------------       ] 1116/1474 Epoch: 2/2 Loss: ↘ 0.1344\n",
      "Train progress: [-------------------      ] 1126/1474 Epoch: 2/2 Loss: ↘ 0.0966\n",
      "Train progress: [-------------------      ] 1136/1474 Epoch: 2/2 Loss: ↗ 0.2229\n",
      "Train progress: [-------------------      ] 1146/1474 Epoch: 2/2 Loss: ↘ 0.0627\n",
      "Train progress: [-------------------      ] 1156/1474 Epoch: 2/2 Loss: ↗ 0.1262\n",
      "Train progress: [-------------------      ] 1166/1474 Epoch: 2/2 Loss: ↗ 0.1863\n",
      "Train progress: [-------------------      ] 1176/1474 Epoch: 2/2 Loss: ↘ 0.0558\n",
      "Train progress: [--------------------     ] 1186/1474 Epoch: 2/2 Loss: ↗ 0.0959\n",
      "Train progress: [--------------------     ] 1196/1474 Epoch: 2/2 Loss: ↗ 0.1418\n",
      "Train progress: [--------------------     ] 1206/1474 Epoch: 2/2 Loss: ↘ 0.0534\n",
      "Train progress: [--------------------     ] 1216/1474 Epoch: 2/2 Loss: ↗ 0.0775\n",
      "Train progress: [--------------------     ] 1226/1474 Epoch: 2/2 Loss: ↗ 0.2000\n",
      "Train progress: [--------------------     ] 1236/1474 Epoch: 2/2 Loss: ↗ 0.2004\n",
      "Train progress: [---------------------    ] 1246/1474 Epoch: 2/2 Loss: ↘ 0.0197\n",
      "Train progress: [---------------------    ] 1256/1474 Epoch: 2/2 Loss: ↗ 0.1617\n",
      "Train progress: [---------------------    ] 1266/1474 Epoch: 2/2 Loss: ↘ 0.0795\n",
      "Train progress: [---------------------    ] 1276/1474 Epoch: 2/2 Loss: ↗ 0.1733\n",
      "Train progress: [---------------------    ] 1286/1474 Epoch: 2/2 Loss: ↘ 0.1502\n",
      "Train progress: [---------------------    ] 1296/1474 Epoch: 2/2 Loss: ↗ 0.2282\n",
      "Train progress: [----------------------   ] 1306/1474 Epoch: 2/2 Loss: ↘ 0.1852\n",
      "Train progress: [----------------------   ] 1316/1474 Epoch: 2/2 Loss: ↘ 0.1463\n",
      "Train progress: [----------------------   ] 1326/1474 Epoch: 2/2 Loss: ↘ 0.1163\n",
      "Train progress: [----------------------   ] 1336/1474 Epoch: 2/2 Loss: ↘ 0.0828\n",
      "Train progress: [----------------------   ] 1346/1474 Epoch: 2/2 Loss: ↗ 0.1182\n",
      "Train progress: [----------------------   ] 1356/1474 Epoch: 2/2 Loss: ↘ 0.0151\n",
      "Train progress: [-----------------------  ] 1366/1474 Epoch: 2/2 Loss: ↗ 0.0774\n",
      "Train progress: [-----------------------  ] 1376/1474 Epoch: 2/2 Loss: ↘ 0.0707\n",
      "Train progress: [-----------------------  ] 1386/1474 Epoch: 2/2 Loss: ↘ 0.0150\n",
      "Train progress: [-----------------------  ] 1396/1474 Epoch: 2/2 Loss: ↗ 0.8077\n",
      "Train progress: [-----------------------  ] 1406/1474 Epoch: 2/2 Loss: ↘ 0.0401\n",
      "Train progress: [------------------------ ] 1416/1474 Epoch: 2/2 Loss: ↗ 0.0629\n",
      "Train progress: [------------------------ ] 1426/1474 Epoch: 2/2 Loss: ↗ 0.1033\n",
      "Train progress: [------------------------ ] 1436/1474 Epoch: 2/2 Loss: ↗ 0.1947\n",
      "Train progress: [------------------------ ] 1446/1474 Epoch: 2/2 Loss: ↘ 0.0121\n",
      "Train progress: [------------------------ ] 1456/1474 Epoch: 2/2 Loss: ↗ 0.0140\n",
      "Train progress: [------------------------ ] 1466/1474 Epoch: 2/2 Loss: ↗ 0.1055\n",
      "Train progress: [-------------------------] 1474/1474 Epoch: 2/2 Loss: ↗ 0.1055\n"
     ]
    },
    {
     "name": "stdout",
     "output_type": "stream",
     "text": [
      "Normalized confusion matrix\n",
      "\u001b[92mSuccessfully ran Experiment >>Baseline<<\u001b[0m\n"
     ]
    },
    {
     "data": {
      "image/png": "[encoded data removed]",
      "text/plain": [
       "<Figure size 720x720 with 2 Axes>"
      ]
     },
     "metadata": {
      "needs_background": "dark"
     },
     "output_type": "display_data"
    }
   ],
   "source": [
    "baseline.run()"
   ]
  },
  {
   "cell_type": "markdown",
   "metadata": {},
   "source": [
    "# Agressive Thresholding\n"
   ]
  },
  {
   "cell_type": "code",
   "execution_count": 4,
   "metadata": {},
   "outputs": [],
   "source": [
    "agressive_thresholding = Experiment(\n",
    "    \"Agressive Thresholding\",\n",
    "    [\n",
    "        *normalization,\n",
    "        Blur((3, 3)),\n",
    "        Threshold(lambda img: np.median(img[img > 0.0])),\n",
    "    ],\n",
    ")\n"
   ]
  },
  {
   "cell_type": "markdown",
   "metadata": {},
   "source": [
    "# Agressive Thresholding + Sobel\n"
   ]
  },
  {
   "cell_type": "code",
   "execution_count": 5,
   "metadata": {},
   "outputs": [],
   "source": [
    "sobel = Experiment(\n",
    "    \"Agressive Thresholding + Sobel\",\n",
    "    [\n",
    "        *normalization,\n",
    "        Blur((3, 3)),\n",
    "        Threshold(lambda img: np.median(img[img > 0.0])),\n",
    "        Sobel(),\n",
    "        Threshold(lambda img: np.median(img[img > 0.0])),\n",
    "    ],\n",
    ")\n"
   ]
  },
  {
   "cell_type": "markdown",
   "metadata": {},
   "source": [
    "# Rolling Ball + Agressive Thresholding\n"
   ]
  },
  {
   "cell_type": "code",
   "execution_count": 6,
   "metadata": {},
   "outputs": [],
   "source": [
    "rolling_ball = Experiment(\"Rolling Ball + Agressive Thresholding\",\n",
    "    [\n",
    "        *normalization,\n",
    "        RollingBall(radius=5),\n",
    "        Blur((3, 3)),\n",
    "        Threshold(lambda img: np.median(img[img > 0.0])),\n",
    "    ]\n",
    ")\n"
   ]
  },
  {
   "cell_type": "markdown",
   "metadata": {},
   "source": [
    "# Fourier\n"
   ]
  },
  {
   "cell_type": "code",
   "execution_count": 7,
   "metadata": {},
   "outputs": [],
   "source": [
    "fourier = Experiment(\"Fourier\",\n",
    "    [\n",
    "        *normalization,\n",
    "        Denoise(),\n",
    "        Blur((3, 3)),\n",
    "        HighPass(rad=50),\n",
    "        Blur((3, 3)),\n",
    "        Threshold(lambda img: np.median(img[img > 0.0])),\n",
    "    ]\n",
    ")\n"
   ]
  },
  {
   "cell_type": "markdown",
   "metadata": {},
   "source": [
    "# Improving SLP\n",
    "\n",
    "- hier zwei szenarien testen: einmal diese transformation auf beide datensätze anwenden und einmal nur auf slp und agressive thresholding oder so auf physionet\n",
    "- interessante sache: später resizen behält in den schritten davor noch mehr details, womit besser preprocessed werden kann\n",
    "- Potential: Menschen auf slp bildern vergrößern, damit die auf allen druckbildern ungefähr gleich groß sind\n"
   ]
  },
  {
   "cell_type": "code",
   "execution_count": 8,
   "metadata": {},
   "outputs": [],
   "source": [
    "improve_slp = Experiment(\"Improve SLP\",\n",
    "    [\n",
    "        Standardize(),\n",
    "        NormalizeValues(),\n",
    "        EqualizeHist(),\n",
    "        Blur((3, 3)),\n",
    "        Denoise(),\n",
    "        Threshold(lambda img: np.median(img[img > 0.0])),\n",
    "        Close((3, 3), ktype=cv2.MORPH_CROSS, iterations=3),\n",
    "        Blur((3, 3)),\n",
    "        Resize((32, 64)),\n",
    "    ]\n",
    ")\n"
   ]
  },
  {
   "cell_type": "markdown",
   "metadata": {},
   "source": [
    "# Evaluation"
   ]
  },
  {
   "cell_type": "code",
   "execution_count": 9,
   "metadata": {},
   "outputs": [
    {
     "name": "stdout",
     "output_type": "stream",
     "text": [
      "Running Experiment >>Baseline<<\n",
      "\u001b[92mSuccessfully ran Experiment >>Baseline<<\u001b[0m\n",
      "Running Experiment >>Agressive Thresholding<<\n",
      "\u001b[92mSuccessfully ran Experiment >>Agressive Thresholding<<\u001b[0m\n",
      "Running Experiment >>Agressive Thresholding + Sobel<<\n",
      "\u001b[92mSuccessfully ran Experiment >>Agressive Thresholding + Sobel<<\u001b[0m\n",
      "Running Experiment >>Rolling Ball + Agressive Thresholding<<\n",
      "\u001b[92mSuccessfully ran Experiment >>Rolling Ball + Agressive Thresholding<<\u001b[0m\n",
      "Running Experiment >>Fourier<<\n",
      "\u001b[92mSuccessfully ran Experiment >>Fourier<<\u001b[0m\n"
     ]
    },
    {
     "ename": "AttributeError",
     "evalue": "'tuple' object has no attribute 'run'",
     "output_type": "error",
     "traceback": [
      "\u001b[1;31m---------------------------------------------------------------------------\u001b[0m",
      "\u001b[1;31mAttributeError\u001b[0m                            Traceback (most recent call last)",
      "\u001b[1;32mc:\\Users\\Jannis\\Development\\wisemat-posture-classification\\experiments.ipynb Cell 18'\u001b[0m in \u001b[0;36m<cell line: 3>\u001b[1;34m()\u001b[0m\n\u001b[0;32m      <a href='vscode-notebook-cell:/c%3A/Users/Jannis/Development/wisemat-posture-classification/experiments.ipynb#ch0000019?line=0'>1</a>\u001b[0m experiments \u001b[39m=\u001b[39m [baseline, agressive_thresholding, sobel, rolling_ball, fourier, improve_slp]\n\u001b[0;32m      <a href='vscode-notebook-cell:/c%3A/Users/Jannis/Development/wisemat-posture-classification/experiments.ipynb#ch0000019?line=2'>3</a>\u001b[0m \u001b[39mfor\u001b[39;00m experiment \u001b[39min\u001b[39;00m experiments:\n\u001b[1;32m----> <a href='vscode-notebook-cell:/c%3A/Users/Jannis/Development/wisemat-posture-classification/experiments.ipynb#ch0000019?line=3'>4</a>\u001b[0m     experiment\u001b[39m.\u001b[39;49mrun()\n",
      "\u001b[1;31mAttributeError\u001b[0m: 'tuple' object has no attribute 'run'"
     ]
    }
   ],
   "source": [
    "experiments = [baseline]#, agressive_thresholding, sobel, rolling_ball, fourier, improve_slp]\n",
    "\n",
    "for experiment in experiments:\n",
    "    experiment.run()"
   ]
  }
 ],
 "metadata": {
  "interpreter": {
   "hash": "1570699ba4f120b96ddfd0503318136b734b0558b028e188e1a2824f4937ee21"
  },
  "kernelspec": {
   "display_name": "Python 3.9.6 ('venv': venv)",
   "language": "python",
   "name": "python3"
  },
  "language_info": {
   "codemirror_mode": {
    "name": "ipython",
    "version": 3
   },
   "file_extension": ".py",
   "mimetype": "text/x-python",
   "name": "python",
   "nbconvert_exporter": "python",
   "pygments_lexer": "ipython3",
   "version": "3.9.6"
  },
  "orig_nbformat": 4
 },
 "nbformat": 4,
 "nbformat_minor": 2
}
