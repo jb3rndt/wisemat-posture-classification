{
 "cells": [
  {
   "cell_type": "code",
   "execution_count": null,
   "metadata": {},
   "outputs": [],
   "source": [
    "from pathlib import Path\n",
    "from utils.plots import plot_confusion_matrix\n",
    "path = Path(\"models\").joinpath(\"autosave\").joinpath(\"2022-05-30_15-18-12\").joinpath(\"confmat.npy\")\n",
    "conf_mat = np.load(str(path))\n",
    "plot_confusion_matrix(conf_mat, title=\"Thresholding\", normalize=True)"
   ]
  }
 ],
 "metadata": {
  "language_info": {
   "name": "python"
  },
  "orig_nbformat": 4
 },
 "nbformat": 4,
 "nbformat_minor": 2
}
