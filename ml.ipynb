{
 "cells": [
  {
   "cell_type": "markdown",
   "id": "5d830824",
   "metadata": {},
   "source": [
    "## Imports"
   ]
  },
  {
   "cell_type": "code",
   "execution_count": 1,
   "id": "9591dc6b",
   "metadata": {},
   "outputs": [
    {
     "data": {
      "text/plain": [
       "<module 'utils.plots' from 'c:\\\\Users\\\\Jannis\\\\Development\\\\wisemat-posture-classification\\\\utils\\\\plots.py'>"
      ]
     },
     "execution_count": 1,
     "metadata": {},
     "output_type": "execute_result"
    }
   ],
   "source": [
    "import datetime\n",
    "import json\n",
    "from pathlib import Path\n",
    "import cv2\n",
    "import matplotlib.pyplot as plt\n",
    "import numpy as np\n",
    "import torch\n",
    "import torch.nn as nn\n",
    "import torchvision\n",
    "from sklearn.metrics import confusion_matrix, f1_score\n",
    "from torch.utils.data import ConcatDataset, DataLoader, WeightedRandomSampler\n",
    "\n",
    "from utils.dataset import *\n",
    "import utils.dataset as ds\n",
    "from utils.model import ConvNet\n",
    "from utils.plots import *\n",
    "import utils.plots as plts\n",
    "from utils.transforms import *\n",
    "import utils.transforms as tf\n",
    "\n",
    "import importlib\n",
    "importlib.reload(tf)\n",
    "importlib.reload(ds)\n",
    "importlib.reload(plts)"
   ]
  },
  {
   "cell_type": "markdown",
   "id": "01bdb847",
   "metadata": {},
   "source": [
    "## Hyper Parameters"
   ]
  },
  {
   "cell_type": "code",
   "execution_count": 13,
   "id": "480cb716",
   "metadata": {},
   "outputs": [],
   "source": [
    "num_trainings = 1\n",
    "num_epochs = 2\n",
    "learning_rate = 0.005\n",
    "batch_size = 32\n",
    "num_classes = len(PostureClass)\n",
    "\n",
    "transform = torchvision.transforms.Compose(\n",
    "    [\n",
    "        Resize((32, 64), cv2.INTER_LINEAR),\n",
    "        Normalize(),\n",
    "        EqualizeHist(),\n",
    "        Blur((5, 5)),\n",
    "        Erode(),\n",
    "        # Threshold(),\n",
    "        Resize((64, 128), cv2.INTER_LINEAR),\n",
    "        ToTensor(),\n",
    "    ]\n",
    ")"
   ]
  },
  {
   "cell_type": "markdown",
   "id": "28a7996a",
   "metadata": {},
   "source": [
    "## Data Preparation"
   ]
  },
  {
   "cell_type": "code",
   "execution_count": 14,
   "id": "5b155130",
   "metadata": {},
   "outputs": [
    {
     "name": "stdout",
     "output_type": "stream",
     "text": [
      "Number of training samples: 23556\n",
      "Number of testing samples: 9796\n"
     ]
    }
   ],
   "source": [
    "train_dataset = ConcatDataset(\n",
    "    [\n",
    "        PhysionetDataset(transform, train=True),\n",
    "        SLPDataset(transform, train=True),\n",
    "    ]\n",
    ")\n",
    "\n",
    "test_dataset = ConcatDataset(\n",
    "    [\n",
    "        PhysionetDataset(transform, train=False),\n",
    "        SLPDataset(transform, train=False),\n",
    "    ]\n",
    ")\n",
    "\n",
    "print(f\"Number of training samples: {len(train_dataset)}\")\n",
    "print(f\"Number of testing samples: {len(test_dataset)}\")\n",
    "\n",
    "# Over- & Undersampling\n",
    "train_labels = np.concatenate(\n",
    "    list(map(lambda dataset: dataset.y, train_dataset.datasets))\n",
    ")\n",
    "test_labels = np.concatenate(\n",
    "    list(map(lambda dataset: dataset.y, test_dataset.datasets))\n",
    ")\n",
    "_, train_class_counts = np.unique(train_labels, return_counts=True)\n",
    "_, test_class_counts = np.unique(test_labels, return_counts=True)\n",
    "weights = np.asarray([1.0 / train_class_counts[c] for c in train_labels])\n",
    "train_sampler = WeightedRandomSampler(\n",
    "    weights=weights, num_samples=len(weights), replacement=True\n",
    ")"
   ]
  },
  {
   "cell_type": "markdown",
   "id": "a6ea42c3",
   "metadata": {},
   "source": [
    "## Train loop"
   ]
  },
  {
   "cell_type": "code",
   "execution_count": 15,
   "id": "4320fa48",
   "metadata": {
    "scrolled": true
   },
   "outputs": [
    {
     "name": "stdout",
     "output_type": "stream",
     "text": [
      "Epoch 1 / 2, step 50/737, loss = 1.0541\n",
      "Epoch 1 / 2, step 100/737, loss = 1.0746\n",
      "Epoch 1 / 2, step 150/737, loss = 1.0882\n",
      "Epoch 1 / 2, step 200/737, loss = 1.0772\n",
      "Epoch 1 / 2, step 250/737, loss = 0.9579\n",
      "Epoch 1 / 2, step 300/737, loss = 0.8728\n",
      "Epoch 1 / 2, step 350/737, loss = 0.5793\n",
      "Epoch 1 / 2, step 400/737, loss = 0.4816\n",
      "Epoch 1 / 2, step 450/737, loss = 0.2550\n",
      "Epoch 1 / 2, step 500/737, loss = 0.3375\n",
      "Epoch 1 / 2, step 550/737, loss = 0.2314\n",
      "Epoch 1 / 2, step 600/737, loss = 0.3142\n",
      "Epoch 1 / 2, step 650/737, loss = 0.1899\n",
      "Epoch 1 / 2, step 700/737, loss = 0.1738\n",
      "Epoch 2 / 2, step 50/737, loss = 0.1549\n",
      "Epoch 2 / 2, step 100/737, loss = 0.2784\n",
      "Epoch 2 / 2, step 150/737, loss = 0.2604\n",
      "Epoch 2 / 2, step 200/737, loss = 0.7648\n",
      "Epoch 2 / 2, step 250/737, loss = 0.4030\n",
      "Epoch 2 / 2, step 300/737, loss = 0.1219\n",
      "Epoch 2 / 2, step 350/737, loss = 0.0173\n",
      "Epoch 2 / 2, step 400/737, loss = 0.0951\n",
      "Epoch 2 / 2, step 450/737, loss = 0.1266\n",
      "Epoch 2 / 2, step 500/737, loss = 0.1654\n",
      "Epoch 2 / 2, step 550/737, loss = 0.2807\n",
      "Epoch 2 / 2, step 600/737, loss = 0.2028\n",
      "Epoch 2 / 2, step 650/737, loss = 0.2816\n",
      "Epoch 2 / 2, step 700/737, loss = 0.0994\n"
     ]
    }
   ],
   "source": [
    "train_loader = DataLoader(\n",
    "    train_dataset, batch_size=batch_size, shuffle=True#, sampler=train_sampler\n",
    ")\n",
    "test_loader = DataLoader(test_dataset, batch_size=batch_size)\n",
    "device = torch.device(\"cuda\" if torch.cuda.is_available() else \"cpu\")\n",
    "\n",
    "model = ConvNet(num_classes).to(device)\n",
    "\n",
    "criterion = nn.CrossEntropyLoss()\n",
    "optimizer = torch.optim.SGD(model.parameters(), lr=learning_rate)\n",
    "\n",
    "n_total_steps = len(train_loader)\n",
    "for epoch in range(num_epochs):\n",
    "    for i, (images, labels) in enumerate(train_loader):\n",
    "        labels = labels.long()\n",
    "        # print(images.shape) # torch.Size([4, 1, 64, 32])\n",
    "        images = images.to(device)\n",
    "        labels = labels.to(device)\n",
    "\n",
    "        outputs = model(images.unsqueeze(1)) # Bring grayscale images form usual format (64x32) to a format with additional channel (1x64x32) (https://stackoverflow.com/questions/57237381/runtimeerror-expected-4-dimensional-input-for-4-dimensional-weight-32-3-3-but)\n",
    "        loss = criterion(outputs, labels)\n",
    "\n",
    "        optimizer.zero_grad()\n",
    "        loss.backward()\n",
    "        optimizer.step()\n",
    "\n",
    "        if (i + 1) % 50 == 0:\n",
    "            print(\n",
    "                f\"Epoch {epoch+1} / {num_epochs}, step {i+1}/{n_total_steps}, loss = {loss.item():.4f}\"\n",
    "            )"
   ]
  },
  {
   "cell_type": "markdown",
   "id": "69856349",
   "metadata": {},
   "source": [
    "## Evaluation"
   ]
  },
  {
   "cell_type": "code",
   "execution_count": 16,
   "id": "8173ff97",
   "metadata": {},
   "outputs": [
    {
     "name": "stdout",
     "output_type": "stream",
     "text": [
      "Normalized confusion matrix\n"
     ]
    },
    {
     "data": {
      "image/png": "[encoded data removed]",
      "text/plain": [
       "<Figure size 720x720 with 2 Axes>"
      ]
     },
     "metadata": {
      "needs_background": "dark"
     },
     "output_type": "display_data"
    }
   ],
   "source": [
    "model.eval()\n",
    "predlist = []\n",
    "lbllist = []\n",
    "acc = 0.0\n",
    "with torch.no_grad():\n",
    "    n_correct = 0\n",
    "    n_samples = 0\n",
    "    for images, labels in test_loader:\n",
    "        images = images.to(device)\n",
    "        labels = labels.to(device)\n",
    "        outputs = model(images.unsqueeze(1))\n",
    "\n",
    "        _, predictions = torch.max(outputs, 1)\n",
    "\n",
    "        lbllist.append(labels.cpu().numpy())\n",
    "        predlist.append(predictions.cpu().numpy())\n",
    "        n_samples += labels.size(0)\n",
    "        n_correct += (predictions == labels).sum().item()\n",
    "\n",
    "    acc = 100.0 * n_correct / n_samples\n",
    "    conf_mat = confusion_matrix(np.concatenate(lbllist), np.concatenate(predlist))\n",
    "\n",
    "    # print(f1_score(np.concatenate(lbllist), np.concatenate(predlist), average='macro'))\n",
    "    # print(f1_score(np.concatenate(lbllist), np.concatenate(predlist), average=None))\n",
    "\n",
    "folder: Path = Path(\"models\").joinpath(\"autosave\").joinpath(datetime.datetime.now().strftime('%Y-%m-%d_%H-%M-%S'))\n",
    "Path.mkdir(folder, parents=True, exist_ok=True)\n",
    "torch.save(model.state_dict(), folder.joinpath(\"model.pt\"))\n",
    "with open(folder.joinpath(\"hyperparams.txt\"), \"w\") as file:\n",
    "    file.write(f\"learning_rate = {learning_rate}\\n\")\n",
    "    file.write(f\"num_epochs = {num_epochs}\\n\")\n",
    "    file.write(f\"batch_size = {batch_size}\\n\")\n",
    "    file.write(f\"{str(transform.transforms)}\\n\")\n",
    "    file.write(f\"{str(train_dataset.datasets)}\\n\")\n",
    "np.save(folder.joinpath(\"confmat.npy\"), conf_mat)\n",
    "plot_confusion_matrix(conf_mat, normalize=True)"
   ]
  }
 ],
 "metadata": {
  "interpreter": {
   "hash": "1570699ba4f120b96ddfd0503318136b734b0558b028e188e1a2824f4937ee21"
  },
  "kernelspec": {
   "display_name": "Python 3.9.6 ('venv': venv)",
   "language": "python",
   "name": "python3"
  },
  "language_info": {
   "codemirror_mode": {
    "name": "ipython",
    "version": 3
   },
   "file_extension": ".py",
   "mimetype": "text/x-python",
   "name": "python",
   "nbconvert_exporter": "python",
   "pygments_lexer": "ipython3",
   "version": "3.9.6"
  }
 },
 "nbformat": 4,
 "nbformat_minor": 5
}
