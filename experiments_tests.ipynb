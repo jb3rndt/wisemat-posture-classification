{
 "cells": [
  {
   "cell_type": "code",
   "execution_count": 1,
   "metadata": {},
   "outputs": [],
   "source": [
    "import os\n",
    "from utils.experiment import *\n",
    "from utils.transforms import *"
   ]
  },
  {
   "cell_type": "code",
   "execution_count": null,
   "metadata": {},
   "outputs": [],
   "source": [
    "test = Experiment(\n",
    "    \"Test\",\n",
    "    transform=[\n",
    "        Resize((64, 128)),\n",
    "        ToTensor(),\n",
    "    ],\n",
    "    hparams=HParams(num_trainings=1),\n",
    ")\n",
    "test.run()\n"
   ]
  },
  {
   "cell_type": "code",
   "execution_count": null,
   "metadata": {},
   "outputs": [],
   "source": [
    "Experiment.reevaluate(\"2022-05-30_08-42-10_Baseline\")"
   ]
  },
  {
   "cell_type": "code",
   "execution_count": null,
   "metadata": {},
   "outputs": [],
   "source": [
    "dirs = os.listdir(\"runs\")\n",
    "for run in dirs:\n",
    "    Experiment.reevaluate(run)"
   ]
  }
 ],
 "metadata": {
  "interpreter": {
   "hash": "1570699ba4f120b96ddfd0503318136b734b0558b028e188e1a2824f4937ee21"
  },
  "kernelspec": {
   "display_name": "Python 3.9.6 ('venv': venv)",
   "language": "python",
   "name": "python3"
  },
  "language_info": {
   "codemirror_mode": {
    "name": "ipython",
    "version": 3
   },
   "file_extension": ".py",
   "mimetype": "text/x-python",
   "name": "python",
   "nbconvert_exporter": "python",
   "pygments_lexer": "ipython3",
   "version": "3.9.6"
  },
  "orig_nbformat": 4
 },
 "nbformat": 4,
 "nbformat_minor": 2
}
